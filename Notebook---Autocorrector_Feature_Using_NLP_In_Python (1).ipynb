{
 "cells": [
  {
   "cell_type": "code",
   "execution_count": null,
   "metadata": {
    "colab": {
     "base_uri": "https://localhost:8080/"
    },
    "id": "vWPEElC5gdNE",
    "outputId": "4acff889-7378-43db-f828-728fbce7f957"
   },
   "outputs": [],
   "source": [
    "import nltk\n",
    "nltk.download('all')"
   ]
  },
  {
   "cell_type": "code",
   "execution_count": 1,
   "metadata": {
    "id": "S9DFq24sPICo"
   },
   "outputs": [
    {
     "name": "stderr",
     "output_type": "stream",
     "text": [
      "[nltk_data] Downloading package punkt to\n",
      "[nltk_data]     C:\\Users\\tyesw\\AppData\\Roaming\\nltk_data...\n",
      "[nltk_data]   Package punkt is already up-to-date!\n",
      "[nltk_data] Downloading package wordnet to\n",
      "[nltk_data]     C:\\Users\\tyesw\\AppData\\Roaming\\nltk_data...\n",
      "[nltk_data]   Package wordnet is already up-to-date!\n",
      "[nltk_data] Downloading package omw-1.4 to\n",
      "[nltk_data]     C:\\Users\\tyesw\\AppData\\Roaming\\nltk_data...\n",
      "[nltk_data]   Package omw-1.4 is already up-to-date!\n"
     ]
    },
    {
     "data": {
      "text/plain": [
       "True"
      ]
     },
     "execution_count": 1,
     "metadata": {},
     "output_type": "execute_result"
    }
   ],
   "source": [
    "import nltk\n",
    "nltk.download('punkt')       # Tokenizer\n",
    "nltk.download('wordnet')     # Lemmatizer\n",
    "nltk.download('omw-1.4')     # WordNet Data\n"
   ]
  },
  {
   "cell_type": "code",
   "execution_count": 2,
   "metadata": {
    "id": "S9DFq24sPICo"
   },
   "outputs": [],
   "source": [
    "import re\n",
    "\n",
    "# Load and preprocess text file\n",
    "with open(\"final.txt\", \"r\", encoding=\"utf8\") as f:\n",
    "    text = f.read().lower()\n",
    "\n",
    "# Extract words using regex\n",
    "words = re.findall(r'\\w+', text)\n",
    "\n",
    "# Build vocabulary set\n",
    "main_vocabulary = set(words)\n"
   ]
  },
  {
   "cell_type": "code",
   "execution_count": 3,
   "metadata": {
    "id": "EwJ70XY5PLRU"
   },
   "outputs": [],
   "source": [
    "from collections import Counter\n",
    "\n",
    "# Function to count word frequencies\n",
    "def counting_words(words):\n",
    "    return dict(Counter(words))\n"
   ]
  },
  {
   "cell_type": "code",
   "execution_count": 5,
   "metadata": {
    "id": "IPSBoHg7PMue"
   },
   "outputs": [],
   "source": [
    "# Calculate probability distribution of words\n",
    "def calculate_probabilities(word_counts):\n",
    "    total = sum(word_counts.values())\n",
    "    return {word: count / total for word, count in word_counts.items()}\n"
   ]
  },
  {
   "cell_type": "code",
   "execution_count": 4,
   "metadata": {
    "id": "oWWj0paFPT5x"
   },
   "outputs": [],
   "source": [
    "from nltk.stem import WordNetLemmatizer\n",
    "\n",
    "lemmatizer = WordNetLemmatizer()\n",
    "\n",
    "# Lemmatize a word\n",
    "def lemmatize_word(word):\n",
    "    return ' '.join(lemmatizer.lemmatize(w) for w in word.split())\n"
   ]
  },
  {
   "cell_type": "code",
   "execution_count": 6,
   "metadata": {
    "id": "PYNIYRD1PVSa"
   },
   "outputs": [],
   "source": [
    "# Deleting one letter at every position\n",
    "def delete_letter(word):\n",
    "    return [word[:i] + word[i+1:] for i in range(len(word))]\n"
   ]
  },
  {
   "cell_type": "code",
   "execution_count": 7,
   "metadata": {
    "id": "KpPKjSm1PX9O"
   },
   "outputs": [],
   "source": [
    "# Switching (transposing) two adjacent letters\n",
    "def switch_letters(word):\n",
    "    return [word[:i] + word[i+1] + word[i] + word[i+2:]\n",
    "            for i in range(len(word) - 1)]\n"
   ]
  },
  {
   "cell_type": "code",
   "execution_count": 8,
   "metadata": {
    "id": "qKrmByzdPZRQ"
   },
   "outputs": [],
   "source": [
    "# Replacing each letter with every alphabet letter\n",
    "def replace_letters(word):\n",
    "    alphs = 'abcdefghijklmnopqrstuvwxyz'\n",
    "    return [word[:i] + l + word[i+1:] \n",
    "            for i in range(len(word)) \n",
    "            for l in alphs]\n"
   ]
  },
  {
   "cell_type": "code",
   "execution_count": 9,
   "metadata": {
    "id": "pIo2sis8PamC"
   },
   "outputs": [],
   "source": [
    "# Inserting every alphabet letter at every possible position\n",
    "def insert_letters(word):\n",
    "    alphs = 'abcdefghijklmnopqrstuvwxyz'\n",
    "    return [word[:i] + l + word[i:] \n",
    "            for i in range(len(word) + 1) \n",
    "            for l in alphs]\n"
   ]
  },
  {
   "cell_type": "code",
   "execution_count": 10,
   "metadata": {
    "id": "2GWugWIpPbxa"
   },
   "outputs": [],
   "source": [
    "# One edit distance\n",
    "def edit_one_letter(word: str, allow_switches: bool = True) -> set:\n",
    "    edits = set()\n",
    "    edits.update(delete_letter(word))\n",
    "    if allow_switches:\n",
    "        edits.update(switch_letters(word))\n",
    "    edits.update(replace_letters(word))\n",
    "    edits.update(insert_letters(word))\n",
    "    return edits\n",
    "\n",
    "# Two edit distances\n",
    "def edit_two_letters(word: str, allow_switches: bool = True) -> set:\n",
    "    edits_two = set()\n",
    "    for edit1 in edit_one_letter(word, allow_switches=allow_switches):\n",
    "        edits_two.update(edit_one_letter(edit1, allow_switches=allow_switches))\n",
    "    return edits_two\n"
   ]
  },
  {
   "cell_type": "code",
   "execution_count": 11,
   "metadata": {
    "id": "stxdwUS8PdKm"
   },
   "outputs": [],
   "source": [
    "from typing import Dict, Set, List, Tuple\n",
    "\n",
    "# Get top-N correction suggestions\n",
    "def get_corrections(\n",
    "    word: str,\n",
    "    probs: Dict[str, float],\n",
    "    vocab: Set[str],\n",
    "    n: int = 2\n",
    ") -> List[Tuple[str, float]]:\n",
    "    \n",
    "    if word in vocab:\n",
    "        candidates = {word}\n",
    "    else:\n",
    "        candidates = edit_one_letter(word).intersection(vocab)\n",
    "        if not candidates:\n",
    "            candidates = edit_two_letters(word).intersection(vocab)\n",
    "\n",
    "    best_suggestions = sorted(\n",
    "        ((w, probs.get(w, 0.0)) for w in candidates),\n",
    "        key=lambda x: x[1],\n",
    "        reverse=True\n",
    "    )\n",
    "\n",
    "    return best_suggestions[:n]\n"
   ]
  },
  {
   "cell_type": "code",
   "execution_count": 20,
   "metadata": {
    "colab": {
     "base_uri": "https://localhost:8080/"
    },
    "id": "CoGnLY3qPebW",
    "outputId": "ed37b7c2-a14d-4d4d-c6eb-91438a3364f5"
   },
   "outputs": [
    {
     "name": "stdin",
     "output_type": "stream",
     "text": [
      "Enter any word:  serach\n"
     ]
    },
    {
     "name": "stdout",
     "output_type": "stream",
     "text": [
      "\n",
      "Did you mean:\n",
      "search (prob: 0.000053)\n",
      "serch (prob: 0.000003)\n"
     ]
    }
   ],
   "source": [
    "# Input from user\n",
    "my_word = input(\"Enter any word: \").lower()\n",
    "\n",
    "# Count words and calculate probabilities\n",
    "word_count = counting_words(words)\n",
    "probs = calculate_probabilities(word_count)\n",
    "\n",
    "# Get suggestions\n",
    "suggestions = get_corrections(my_word, probs, main_vocabulary, n=2)\n",
    "\n",
    "\n",
    "# Output\n",
    "if suggestions:\n",
    "    print(\"\\nDid you mean:\")\n",
    "    for suggestion, probability in suggestions:\n",
    "        print(f\"{suggestion} (prob: {probability:.6f})\")\n",
    "else:\n",
    "    print(\"No suggestions found.\")\n"
   ]
  }
 ],
 "metadata": {
  "colab": {
   "provenance": []
  },
  "kernelspec": {
   "display_name": "Python 3 (ipykernel)",
   "language": "python",
   "name": "python3"
  },
  "language_info": {
   "codemirror_mode": {
    "name": "ipython",
    "version": 3
   },
   "file_extension": ".py",
   "mimetype": "text/x-python",
   "name": "python",
   "nbconvert_exporter": "python",
   "pygments_lexer": "ipython3",
   "version": "3.12.4"
  }
 },
 "nbformat": 4,
 "nbformat_minor": 4
}
